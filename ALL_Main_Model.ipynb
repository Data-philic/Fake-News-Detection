{
  "nbformat": 4,
  "nbformat_minor": 0,
  "metadata": {
    "colab": {
      "provenance": [],
      "collapsed_sections": [
        "nKMmJPX08RiY",
        "X3OerYfB8Rig",
        "8S2WWgsr8Rih",
        "BNizuaV68Rij",
        "MeYbC4it8Rik",
        "2XFsks8U8Rio",
        "69gZcltu8Rip"
      ],
      "toc_visible": true,
      "include_colab_link": true
    },
    "kernelspec": {
      "display_name": "Python 3",
      "language": "python",
      "name": "python3"
    },
    "language_info": {
      "codemirror_mode": {
        "name": "ipython",
        "version": 3
      },
      "file_extension": ".py",
      "mimetype": "text/x-python",
      "name": "python",
      "nbconvert_exporter": "python",
      "pygments_lexer": "ipython3",
      "version": "3.8.3"
    }
  },
  "cells": [
    {
      "cell_type": "markdown",
      "metadata": {
        "id": "view-in-github",
        "colab_type": "text"
      },
      "source": [
        "<a href=\"https://colab.research.google.com/github/Data-philic/Fake-News-Detection/blob/main/ALL_Main_Model.ipynb\" target=\"_parent\"><img src=\"https://colab.research.google.com/assets/colab-badge.svg\" alt=\"Open In Colab\"/></a>"
      ]
    },
    {
      "cell_type": "markdown",
      "metadata": {
        "id": "Nyhg71RM8RiO"
      },
      "source": [
        "https://towardsdatascience.com/multi-class-text-classification-with-doc2vec-logistic-regression-9da9947b43f4\n",
        "\n",
        "https://github.com/susanli2016/NLP-with-Python/blob/master/Doc2Vec%20Consumer%20Complaint_3.ipynb\n",
        "\n",
        "GridsearchCV: https://github.com/codebasics/py/blob/master/ML/15_gridsearch/15_grid_search.ipynb"
      ]
    },
    {
      "cell_type": "markdown",
      "metadata": {
        "id": "VXNcm-UL8RiV"
      },
      "source": [
        "Main code:\n",
        "https://github.com/rockash/Fake-news-Detection"
      ]
    },
    {
      "cell_type": "markdown",
      "metadata": {
        "id": "LBSb2OiXRpXb"
      },
      "source": [
        "**Required Libraries**"
      ]
    },
    {
      "cell_type": "code",
      "metadata": {
        "colab": {
          "base_uri": "https://localhost:8080/"
        },
        "id": "jRuFs-Ok8RiW",
        "outputId": "0321f400-1701-49f9-cc6f-3be50b559f02"
      },
      "source": [
        "import numpy as np\n",
        "import pandas as pd\n",
        "import matplotlib.pyplot as plt\n",
        "import re\n",
        "import nltk \n",
        "nltk.download('punkt')\n",
        "nltk.download('stopwords')\n",
        "nltk.download('wordnet')\n",
        "from nltk.corpus import stopwords\n",
        "import string\n",
        "from gensim.models.doc2vec import TaggedDocument\n",
        "import multiprocessing\n",
        "from nltk import word_tokenize\n",
        "from sklearn.model_selection import train_test_split\n",
        "from gensim.models import Doc2Vec\n",
        "from textblob import TextBlob #for polarity and subjectivity\n",
        "from sklearn.model_selection import RandomizedSearchCV\n",
        "from sklearn.model_selection import GridSearchCV"
      ],
      "execution_count": null,
      "outputs": [
        {
          "output_type": "stream",
          "name": "stdout",
          "text": [
            "[nltk_data] Downloading package punkt to /root/nltk_data...\n",
            "[nltk_data]   Unzipping tokenizers/punkt.zip.\n",
            "[nltk_data] Downloading package stopwords to /root/nltk_data...\n",
            "[nltk_data]   Unzipping corpora/stopwords.zip.\n",
            "[nltk_data] Downloading package wordnet to /root/nltk_data...\n",
            "[nltk_data]   Unzipping corpora/wordnet.zip.\n"
          ]
        }
      ]
    },
    {
      "cell_type": "code",
      "metadata": {
        "colab": {
          "base_uri": "https://localhost:8080/"
        },
        "id": "yxGmof5dhSNa",
        "outputId": "8b00509d-747f-43b5-fc0b-715f148ac9f2"
      },
      "source": [
        "#Mounting to drive\n",
        "from google.colab import drive\n",
        "drive.mount(\"/content/drive\", force_remount=True)"
      ],
      "execution_count": null,
      "outputs": [
        {
          "output_type": "stream",
          "name": "stdout",
          "text": [
            "Mounted at /content/drive\n"
          ]
        }
      ]
    },
    {
      "cell_type": "markdown",
      "metadata": {
        "id": "nKMmJPX08RiY"
      },
      "source": [
        "### Loading Data"
      ]
    },
    {
      "cell_type": "code",
      "metadata": {
        "colab": {
          "base_uri": "https://localhost:8080/",
          "height": 423
        },
        "id": "VSJgjwqX8RiZ",
        "outputId": "41d8ecaf-cc19-41eb-d2d0-8c6b6004cb1e"
      },
      "source": [
        "true_df= pd.read_csv('/content/drive/MyDrive/Colab Notebooks/True.csv')\n",
        "fake_df= pd.read_csv('/content/drive/MyDrive/Colab Notebooks/Fake.csv')\n",
        "\n",
        "#Adding column 'label' 1: fake and 0: real\n",
        "true_df['label']=0\n",
        "fake_df['label']=1\n",
        "\n",
        "#concatinating required columns from both datasets into data\n",
        "data=pd.concat([true_df[['text','label']],fake_df[['text','label']]], ignore_index=True)\n",
        "data"
      ],
      "execution_count": null,
      "outputs": [
        {
          "output_type": "execute_result",
          "data": {
            "text/plain": [
              "                                                    text  label\n",
              "0      WASHINGTON (Reuters) - The head of a conservat...      0\n",
              "1      WASHINGTON (Reuters) - Transgender people will...      0\n",
              "2      WASHINGTON (Reuters) - The special counsel inv...      0\n",
              "3      WASHINGTON (Reuters) - Trump campaign adviser ...      0\n",
              "4      SEATTLE/WASHINGTON (Reuters) - President Donal...      0\n",
              "...                                                  ...    ...\n",
              "44893  21st Century Wire says As 21WIRE reported earl...      1\n",
              "44894  21st Century Wire says It s a familiar theme. ...      1\n",
              "44895  Patrick Henningsen  21st Century WireRemember ...      1\n",
              "44896  21st Century Wire says Al Jazeera America will...      1\n",
              "44897  21st Century Wire says As 21WIRE predicted in ...      1\n",
              "\n",
              "[44898 rows x 2 columns]"
            ],
            "text/html": [
              "\n",
              "  <div id=\"df-a7cd9a3c-ce59-42fa-b4f5-d17f40fd0f79\">\n",
              "    <div class=\"colab-df-container\">\n",
              "      <div>\n",
              "<style scoped>\n",
              "    .dataframe tbody tr th:only-of-type {\n",
              "        vertical-align: middle;\n",
              "    }\n",
              "\n",
              "    .dataframe tbody tr th {\n",
              "        vertical-align: top;\n",
              "    }\n",
              "\n",
              "    .dataframe thead th {\n",
              "        text-align: right;\n",
              "    }\n",
              "</style>\n",
              "<table border=\"1\" class=\"dataframe\">\n",
              "  <thead>\n",
              "    <tr style=\"text-align: right;\">\n",
              "      <th></th>\n",
              "      <th>text</th>\n",
              "      <th>label</th>\n",
              "    </tr>\n",
              "  </thead>\n",
              "  <tbody>\n",
              "    <tr>\n",
              "      <th>0</th>\n",
              "      <td>WASHINGTON (Reuters) - The head of a conservat...</td>\n",
              "      <td>0</td>\n",
              "    </tr>\n",
              "    <tr>\n",
              "      <th>1</th>\n",
              "      <td>WASHINGTON (Reuters) - Transgender people will...</td>\n",
              "      <td>0</td>\n",
              "    </tr>\n",
              "    <tr>\n",
              "      <th>2</th>\n",
              "      <td>WASHINGTON (Reuters) - The special counsel inv...</td>\n",
              "      <td>0</td>\n",
              "    </tr>\n",
              "    <tr>\n",
              "      <th>3</th>\n",
              "      <td>WASHINGTON (Reuters) - Trump campaign adviser ...</td>\n",
              "      <td>0</td>\n",
              "    </tr>\n",
              "    <tr>\n",
              "      <th>4</th>\n",
              "      <td>SEATTLE/WASHINGTON (Reuters) - President Donal...</td>\n",
              "      <td>0</td>\n",
              "    </tr>\n",
              "    <tr>\n",
              "      <th>...</th>\n",
              "      <td>...</td>\n",
              "      <td>...</td>\n",
              "    </tr>\n",
              "    <tr>\n",
              "      <th>44893</th>\n",
              "      <td>21st Century Wire says As 21WIRE reported earl...</td>\n",
              "      <td>1</td>\n",
              "    </tr>\n",
              "    <tr>\n",
              "      <th>44894</th>\n",
              "      <td>21st Century Wire says It s a familiar theme. ...</td>\n",
              "      <td>1</td>\n",
              "    </tr>\n",
              "    <tr>\n",
              "      <th>44895</th>\n",
              "      <td>Patrick Henningsen  21st Century WireRemember ...</td>\n",
              "      <td>1</td>\n",
              "    </tr>\n",
              "    <tr>\n",
              "      <th>44896</th>\n",
              "      <td>21st Century Wire says Al Jazeera America will...</td>\n",
              "      <td>1</td>\n",
              "    </tr>\n",
              "    <tr>\n",
              "      <th>44897</th>\n",
              "      <td>21st Century Wire says As 21WIRE predicted in ...</td>\n",
              "      <td>1</td>\n",
              "    </tr>\n",
              "  </tbody>\n",
              "</table>\n",
              "<p>44898 rows × 2 columns</p>\n",
              "</div>\n",
              "      <button class=\"colab-df-convert\" onclick=\"convertToInteractive('df-a7cd9a3c-ce59-42fa-b4f5-d17f40fd0f79')\"\n",
              "              title=\"Convert this dataframe to an interactive table.\"\n",
              "              style=\"display:none;\">\n",
              "        \n",
              "  <svg xmlns=\"http://www.w3.org/2000/svg\" height=\"24px\"viewBox=\"0 0 24 24\"\n",
              "       width=\"24px\">\n",
              "    <path d=\"M0 0h24v24H0V0z\" fill=\"none\"/>\n",
              "    <path d=\"M18.56 5.44l.94 2.06.94-2.06 2.06-.94-2.06-.94-.94-2.06-.94 2.06-2.06.94zm-11 1L8.5 8.5l.94-2.06 2.06-.94-2.06-.94L8.5 2.5l-.94 2.06-2.06.94zm10 10l.94 2.06.94-2.06 2.06-.94-2.06-.94-.94-2.06-.94 2.06-2.06.94z\"/><path d=\"M17.41 7.96l-1.37-1.37c-.4-.4-.92-.59-1.43-.59-.52 0-1.04.2-1.43.59L10.3 9.45l-7.72 7.72c-.78.78-.78 2.05 0 2.83L4 21.41c.39.39.9.59 1.41.59.51 0 1.02-.2 1.41-.59l7.78-7.78 2.81-2.81c.8-.78.8-2.07 0-2.86zM5.41 20L4 18.59l7.72-7.72 1.47 1.35L5.41 20z\"/>\n",
              "  </svg>\n",
              "      </button>\n",
              "      \n",
              "  <style>\n",
              "    .colab-df-container {\n",
              "      display:flex;\n",
              "      flex-wrap:wrap;\n",
              "      gap: 12px;\n",
              "    }\n",
              "\n",
              "    .colab-df-convert {\n",
              "      background-color: #E8F0FE;\n",
              "      border: none;\n",
              "      border-radius: 50%;\n",
              "      cursor: pointer;\n",
              "      display: none;\n",
              "      fill: #1967D2;\n",
              "      height: 32px;\n",
              "      padding: 0 0 0 0;\n",
              "      width: 32px;\n",
              "    }\n",
              "\n",
              "    .colab-df-convert:hover {\n",
              "      background-color: #E2EBFA;\n",
              "      box-shadow: 0px 1px 2px rgba(60, 64, 67, 0.3), 0px 1px 3px 1px rgba(60, 64, 67, 0.15);\n",
              "      fill: #174EA6;\n",
              "    }\n",
              "\n",
              "    [theme=dark] .colab-df-convert {\n",
              "      background-color: #3B4455;\n",
              "      fill: #D2E3FC;\n",
              "    }\n",
              "\n",
              "    [theme=dark] .colab-df-convert:hover {\n",
              "      background-color: #434B5C;\n",
              "      box-shadow: 0px 1px 3px 1px rgba(0, 0, 0, 0.15);\n",
              "      filter: drop-shadow(0px 1px 2px rgba(0, 0, 0, 0.3));\n",
              "      fill: #FFFFFF;\n",
              "    }\n",
              "  </style>\n",
              "\n",
              "      <script>\n",
              "        const buttonEl =\n",
              "          document.querySelector('#df-a7cd9a3c-ce59-42fa-b4f5-d17f40fd0f79 button.colab-df-convert');\n",
              "        buttonEl.style.display =\n",
              "          google.colab.kernel.accessAllowed ? 'block' : 'none';\n",
              "\n",
              "        async function convertToInteractive(key) {\n",
              "          const element = document.querySelector('#df-a7cd9a3c-ce59-42fa-b4f5-d17f40fd0f79');\n",
              "          const dataTable =\n",
              "            await google.colab.kernel.invokeFunction('convertToInteractive',\n",
              "                                                     [key], {});\n",
              "          if (!dataTable) return;\n",
              "\n",
              "          const docLinkHtml = 'Like what you see? Visit the ' +\n",
              "            '<a target=\"_blank\" href=https://colab.research.google.com/notebooks/data_table.ipynb>data table notebook</a>'\n",
              "            + ' to learn more about interactive tables.';\n",
              "          element.innerHTML = '';\n",
              "          dataTable['output_type'] = 'display_data';\n",
              "          await google.colab.output.renderOutput(dataTable, element);\n",
              "          const docLink = document.createElement('div');\n",
              "          docLink.innerHTML = docLinkHtml;\n",
              "          element.appendChild(docLink);\n",
              "        }\n",
              "      </script>\n",
              "    </div>\n",
              "  </div>\n",
              "  "
            ]
          },
          "metadata": {},
          "execution_count": 4
        }
      ]
    },
    {
      "cell_type": "code",
      "metadata": {
        "colab": {
          "base_uri": "https://localhost:8080/",
          "height": 399
        },
        "id": "ExFBZLnk8RiZ",
        "outputId": "6dd0ae6e-d0be-4831-eb80-9fdca08c6ee0"
      },
      "source": [
        "#Visualization of News per subject in real news\n",
        "print(true_df.groupby(['subject'])['text'].count())\n",
        "true_df.groupby(['subject'])['text'].count().plot(kind=\"bar\")\n",
        "plt.show()"
      ],
      "execution_count": null,
      "outputs": [
        {
          "name": "stdout",
          "output_type": "stream",
          "text": [
            "subject\n",
            "politicsNews    11272\n",
            "worldnews       10145\n",
            "Name: text, dtype: int64\n"
          ]
        },
        {
          "data": {
            "image/png": "[encoded data removed]",
            "text/plain": [
              "<Figure size 432x288 with 1 Axes>"
            ]
          },
          "metadata": {},
          "output_type": "display_data"
        }
      ]
    },
    {
      "cell_type": "code",
      "metadata": {
        "colab": {
          "base_uri": "https://localhost:8080/",
          "height": 497
        },
        "id": "B-lS_suy8Ria",
        "outputId": "49a9e131-22d7-4de9-813a-61f57b302cec"
      },
      "source": [
        "#Visualization of News per subject in fake news\n",
        "print(fake_df.groupby(['subject'])['text'].count())\n",
        "fake_df.groupby(['subject'])['text'].count().plot(kind=\"bar\")\n",
        "plt.show()"
      ],
      "execution_count": null,
      "outputs": [
        {
          "name": "stdout",
          "output_type": "stream",
          "text": [
            "subject\n",
            "Government News    1570\n",
            "Middle-east         778\n",
            "News               9050\n",
            "US_News             783\n",
            "left-news          4459\n",
            "politics           6841\n",
            "Name: text, dtype: int64\n"
          ]
        },
        {
          "data": {
            "image/png": "[encoded data removed]",
            "text/plain": [
              "<Figure size 432x288 with 1 Axes>"
            ]
          },
          "metadata": {},
          "output_type": "display_data"
        }
      ]
    },
    {
      "cell_type": "code",
      "metadata": {
        "colab": {
          "base_uri": "https://localhost:8080/",
          "height": 343
        },
        "id": "ScGLt3gG8Rib",
        "outputId": "545d608c-2392-427c-f539-92b2b75ed09b"
      },
      "source": [
        "#Number of fake(1) and real(0) news\n",
        "print(data.groupby(['label'])['text'].count())\n",
        "data.groupby(['label'])['text'].count().plot(kind=\"bar\")\n",
        "plt.show()"
      ],
      "execution_count": null,
      "outputs": [
        {
          "name": "stdout",
          "output_type": "stream",
          "text": [
            "label\n",
            "0    21417\n",
            "1    23481\n",
            "Name: text, dtype: int64\n"
          ]
        },
        {
          "data": {
            "image/png": "[encoded data removed]",
            "text/plain": [
              "<Figure size 432x288 with 1 Axes>"
            ]
          },
          "metadata": {},
          "output_type": "display_data"
        }
      ]
    },
    {
      "cell_type": "markdown",
      "metadata": {
        "id": "0RZRyQo98Ric"
      },
      "source": [
        "There are more fake news than real news in the taken dataset, but there isn't much difference."
      ]
    },
    {
      "cell_type": "code",
      "metadata": {
        "id": "dEhhGfVH8Ric"
      },
      "source": [
        "from nltk.stem import WordNetLemmatizer\n",
        "lemmatizer = WordNetLemmatizer()\n",
        "def cleanup(text): \n",
        "    text = re.sub(r\"[^A-z0-9^,!.\\/'+-=]\", \" \", text)\n",
        "    text = text.lower().split()\n",
        "    stops = set(stopwords.words(\"english\"))\n",
        "    text = [lemmatizer.lemmatize(w, pos='v') for w in text if not w in stops]\n",
        "    text = \" \".join(text)\n",
        "    text = text.translate(str.maketrans(\"\", \"\", string.punctuation))\n",
        "    return text\n",
        "\n",
        "def constructTaggedDocument(data):\n",
        "    sentences = []\n",
        "    for index, row in data.iteritems():\n",
        "        sentences.append(TaggedDocument(word_tokenize(row), ['Text' + '_%s' % str(index)]))\n",
        "    return sentences\n",
        "\n",
        "def vec_for_learning(model, tagged_docs):\n",
        "    sents = tagged_docs\n",
        "    vec = [model.infer_vector(doc.words, steps=20) for doc in sents]\n",
        "    return vec"
      ],
      "execution_count": null,
      "outputs": []
    },
    {
      "cell_type": "markdown",
      "metadata": {
        "id": "px0VU6ce8Rid"
      },
      "source": [
        "- If dm=0, distributed bag of words (PV-DBOW) is used; if dm=1,‘distributed memory’ (PV-DM) is used.\n",
        "- 300- dimensional feature vectors.\n",
        "- min_count=2, ignores all words with total frequency lower than this.\n",
        "- negative=5 , specifies how many “noise words” should be drawn.\n",
        "- hs=0 , and negative is non-zero, negative sampling will be used.\n",
        "- sample=0 , the threshold for configuring which higher-frequency words are randomly down sampled.\n",
        "- workers=cores , use these many worker threads to train the model (=faster training with multicore machines)."
      ]
    },
    {
      "cell_type": "code",
      "metadata": {
        "id": "a4YJ4SJl8Rie"
      },
      "source": [
        "def data_prep(data, vector_dimension=300):\n",
        "    #remove missing rows\n",
        "    data=data[data['text'].notnull()].reset_index()\n",
        "    #Text pre-processing\n",
        "    data['text']=data['text'].apply(cleanup)\n",
        "    #train-test Split 70/30\n",
        "    train, test = train_test_split(data, test_size=0.3, random_state=42, stratify = data['label'])\n",
        "    train_tagged = constructTaggedDocument(train['text'])\n",
        "    test_tagged = constructTaggedDocument(test['text'])\n",
        "    #Building Vocabolary `dm=1`, 'distributed memory' (PV-DM)\n",
        "    text_model = Doc2Vec(min_count=1, window=5, vector_size=vector_dimension, sample=1e-4, negative=5, workers=multiprocessing.cpu_count(), epochs=10, seed=1)\n",
        "    text_model.build_vocab(train_tagged)\n",
        "    text_model.train(train_tagged, total_examples=text_model.corpus_count, epochs=text_model.epochs)\n",
        "\n",
        "    X_train = np.array(vec_for_learning(text_model, train_tagged))\n",
        "    X_test = np.array(vec_for_learning(text_model, test_tagged))\n",
        "    analysisPol_train = np.array(train['text'].apply(lambda sentence: TextBlob(sentence).polarity))\n",
        "    analysisSub_train = np.array(train['text'].apply(lambda sentence: TextBlob(sentence).subjectivity))\n",
        "    analysisPol_test = np.array(test['text'].apply(lambda sentence: TextBlob(sentence).polarity))\n",
        "    analysisSub_test = np.array(test['text'].apply(lambda sentence: TextBlob(sentence).subjectivity))\n",
        "    X_train = np.column_stack((X_train, analysisPol_train, analysisSub_train))\n",
        "    X_test = np.column_stack((X_test, analysisPol_test, analysisSub_test))\n",
        "\n",
        "    y_train = train['label'].values\n",
        "    y_test = test['label'].values\n",
        "    return X_train, X_test, y_train, y_test"
      ],
      "execution_count": null,
      "outputs": []
    },
    {
      "cell_type": "code",
      "metadata": {
        "id": "NkKXJiBG8Rif"
      },
      "source": [
        "xtr,xte,ytr,yte = data_prep(data,400)\n",
        "np.save('/content/drive/MyDrive/Colab Notebooks/xtr', xtr)\n",
        "np.save('/content/drive/MyDrive/Colab Notebooks/xte', xte)\n",
        "np.save('/content/drive/MyDrive/Colab Notebooks/ytr', ytr)\n",
        "np.save('/content/drive/MyDrive/Colab Notebooks/yte', yte)"
      ],
      "execution_count": null,
      "outputs": []
    },
    {
      "cell_type": "code",
      "metadata": {
        "id": "GxiDjs5T8Rif"
      },
      "source": [
        "xtr = np.load('/content/drive/MyDrive/Colab Notebooks/xtr.npy')\n",
        "xte = np.load('/content/drive/MyDrive/Colab Notebooks/xte.npy')\n",
        "ytr = np.load('/content/drive/MyDrive/Colab Notebooks/ytr.npy')\n",
        "yte = np.load('/content/drive/MyDrive/Colab Notebooks/yte.npy')"
      ],
      "execution_count": null,
      "outputs": []
    },
    {
      "cell_type": "code",
      "metadata": {
        "id": "Vjo2ocK98Rif"
      },
      "source": [
        "xtr.shape"
      ],
      "execution_count": null,
      "outputs": []
    },
    {
      "cell_type": "markdown",
      "metadata": {
        "id": "X3OerYfB8Rig"
      },
      "source": [
        "### Supporting functions"
      ]
    },
    {
      "cell_type": "code",
      "metadata": {
        "colab": {
          "base_uri": "https://localhost:8080/"
        },
        "id": "IRYbdHfVMFm_",
        "outputId": "6370d3a2-aa4f-4270-f4e3-b2f834c7d06a"
      },
      "source": [
        "pip install scikit-plot"
      ],
      "execution_count": null,
      "outputs": [
        {
          "output_type": "stream",
          "name": "stdout",
          "text": [
            "Collecting scikit-plot\n",
            "  Downloading scikit_plot-0.3.7-py3-none-any.whl (33 kB)\n",
            "Requirement already satisfied: joblib>=0.10 in /usr/local/lib/python3.7/dist-packages (from scikit-plot) (1.0.1)\n",
            "Requirement already satisfied: matplotlib>=1.4.0 in /usr/local/lib/python3.7/dist-packages (from scikit-plot) (3.2.2)\n",
            "Requirement already satisfied: scipy>=0.9 in /usr/local/lib/python3.7/dist-packages (from scikit-plot) (1.4.1)\n",
            "Requirement already satisfied: scikit-learn>=0.18 in /usr/local/lib/python3.7/dist-packages (from scikit-plot) (0.22.2.post1)\n",
            "Requirement already satisfied: kiwisolver>=1.0.1 in /usr/local/lib/python3.7/dist-packages (from matplotlib>=1.4.0->scikit-plot) (1.3.2)\n",
            "Requirement already satisfied: pyparsing!=2.0.4,!=2.1.2,!=2.1.6,>=2.0.1 in /usr/local/lib/python3.7/dist-packages (from matplotlib>=1.4.0->scikit-plot) (2.4.7)\n",
            "Requirement already satisfied: python-dateutil>=2.1 in /usr/local/lib/python3.7/dist-packages (from matplotlib>=1.4.0->scikit-plot) (2.8.2)\n",
            "Requirement already satisfied: numpy>=1.11 in /usr/local/lib/python3.7/dist-packages (from matplotlib>=1.4.0->scikit-plot) (1.19.5)\n",
            "Requirement already satisfied: cycler>=0.10 in /usr/local/lib/python3.7/dist-packages (from matplotlib>=1.4.0->scikit-plot) (0.10.0)\n",
            "Requirement already satisfied: six in /usr/local/lib/python3.7/dist-packages (from cycler>=0.10->matplotlib>=1.4.0->scikit-plot) (1.15.0)\n",
            "Installing collected packages: scikit-plot\n",
            "Successfully installed scikit-plot-0.3.7\n"
          ]
        }
      ]
    },
    {
      "cell_type": "code",
      "metadata": {
        "id": "M6aDa3xb8Rig"
      },
      "source": [
        "import scikitplot.plotters as skplt\n",
        "from sklearn import metrics\n",
        "\n",
        "#get a confusion metrics\n",
        "def plot_cmat(yte, ypred):\n",
        "    '''Plotting confusion matrix'''\n",
        "    skplt.plot_confusion_matrix(yte,ypred)\n",
        "    plt.show()\n",
        "    \n",
        "def model_performance(y_test, y_pred):\n",
        "    rec={\"Accuracy\":round(metrics.accuracy_score(y_test, y_pred),3),\"Percision\":round(metrics.precision_score(y_test, y_pred),3),\"Recall\":round(metrics.recall_score(y_test, y_pred),3),\"F1-score\":round(metrics.f1_score(y_test, y_pred),3)}\n",
        "    for score in rec.items():\n",
        "        print(\"{} of the model: {}\".format(score[0], score[1]))\n",
        "    return(rec.values())"
      ],
      "execution_count": null,
      "outputs": []
    },
    {
      "cell_type": "markdown",
      "metadata": {
        "id": "7rOX_nhn8Rig"
      },
      "source": [
        "## Models\n",
        "\n",
        "### Non-Ensemble Models:\n",
        "1. Logistic Regression, \n",
        "2. SVM, \n",
        "3. Linear SVM, \n",
        "4. KNN, \n",
        "5. GaussianNB, \n",
        "7. PassiveAggressiveClassifier\n",
        "\n",
        "### Ensemble Models\n",
        "Bagging:\n",
        "1. RandomForestClassifier, \n",
        "\n",
        "Voting:\n",
        "1. VotingClassifier: (RF, LR, KNN), \n",
        "\n",
        "Boosting: \n",
        "1. Adaboost, \n",
        "2. XGboost, \n",
        "3. GradientBoostingClassifier"
      ]
    },
    {
      "cell_type": "markdown",
      "metadata": {
        "id": "8S2WWgsr8Rih"
      },
      "source": [
        "### Logistic Regression"
      ]
    },
    {
      "cell_type": "code",
      "metadata": {
        "colab": {
          "base_uri": "https://localhost:8080/",
          "height": 416
        },
        "id": "Kejatq3n8Rih",
        "outputId": "a3444641-c43f-45c3-8963-63ac22ba55e5"
      },
      "source": [
        "# import the class\n",
        "from sklearn.linear_model import LogisticRegression\n",
        "logreg = LogisticRegression(max_iter=200)\n",
        "logreg.fit(xtr,ytr)\n",
        "y_pred=logreg.predict(xte)\n",
        "bfr_metrics = model_performance(yte, y_pred) #list of scores before Hyperparameter Tunning\n",
        "plot_cmat(yte, y_pred)"
      ],
      "execution_count": null,
      "outputs": [
        {
          "name": "stdout",
          "output_type": "stream",
          "text": [
            "Accuracy of the model: 0.944\n",
            "Percision of the model: 0.943\n",
            "Recall of the model: 0.951\n",
            "F1-score of the model: 0.947\n"
          ]
        },
        {
          "name": "stderr",
          "output_type": "stream",
          "text": [
            "/usr/local/lib/python3.7/dist-packages/sklearn/utils/deprecation.py:87: FutureWarning: Function plot_confusion_matrix is deprecated; This will be removed in v0.4.0. Please use scikitplot.metrics.plot_confusion_matrix instead.\n",
            "  warnings.warn(msg, category=FutureWarning)\n"
          ]
        },
        {
          "data": {
            "image/png": "[encoded data removed]",
            "text/plain": [
              "<Figure size 432x288 with 2 Axes>"
            ]
          },
          "metadata": {},
          "output_type": "display_data"
        }
      ]
    },
    {
      "cell_type": "code",
      "metadata": {
        "colab": {
          "base_uri": "https://localhost:8080/"
        },
        "id": "pYJXqxhWW7mt",
        "outputId": "fe63bb0d-6183-4e31-ee7d-21d366d5e999"
      },
      "source": [
        "#Hyperparameter Tuning\n",
        "# define the grid of values to search\n",
        "grid = {'penalty':[\"l1\",\"l2\"], \n",
        "        'solver': ['newton-cg', 'lbfgs', 'liblinear', 'sag', 'saga'],\n",
        "        'C': [100, 10, 1.0, 0.1, 0.01]}\n",
        "i=0\n",
        "while i < 5:\n",
        "  # define the grid search procedure\n",
        "  clf = RandomizedSearchCV(LogisticRegression(max_iter=200), grid, n_jobs=-1, cv= 10, scoring='accuracy')\n",
        "  # execute the grid search\n",
        "  grid_result=clf.fit(xtr,ytr)\n",
        "  # summarize the best score and configuration\n",
        "  print(\"Best: %f using %s\" % (grid_result.best_score_, grid_result.best_params_))\n",
        "  clf.best_estimator_\n",
        "  i+=1"
      ],
      "execution_count": null,
      "outputs": [
        {
          "name": "stderr",
          "output_type": "stream",
          "text": [
            "/usr/local/lib/python3.7/dist-packages/joblib/externals/loky/process_executor.py:691: UserWarning: A worker stopped while some jobs were given to the executor. This can be caused by a too short worker timeout or by a memory leak.\n",
            "  \"timeout or by a memory leak.\", UserWarning\n",
            "/usr/local/lib/python3.7/dist-packages/sklearn/linear_model/_sag.py:330: ConvergenceWarning: The max_iter was reached which means the coef_ did not converge\n",
            "  \"the coef_ did not converge\", ConvergenceWarning)\n"
          ]
        },
        {
          "name": "stdout",
          "output_type": "stream",
          "text": [
            "Best: 0.944285 using {'solver': 'saga', 'penalty': 'l1', 'C': 100}\n",
            "Best: 0.944731 using {'solver': 'liblinear', 'penalty': 'l2', 'C': 10}\n"
          ]
        },
        {
          "name": "stderr",
          "output_type": "stream",
          "text": [
            "/usr/local/lib/python3.7/dist-packages/joblib/externals/loky/process_executor.py:691: UserWarning: A worker stopped while some jobs were given to the executor. This can be caused by a too short worker timeout or by a memory leak.\n",
            "  \"timeout or by a memory leak.\", UserWarning\n",
            "/usr/local/lib/python3.7/dist-packages/sklearn/linear_model/_sag.py:330: ConvergenceWarning: The max_iter was reached which means the coef_ did not converge\n",
            "  \"the coef_ did not converge\", ConvergenceWarning)\n"
          ]
        },
        {
          "name": "stdout",
          "output_type": "stream",
          "text": [
            "Best: 0.944826 using {'solver': 'sag', 'penalty': 'l2', 'C': 10}\n",
            "Best: 0.945017 using {'solver': 'lbfgs', 'penalty': 'l2', 'C': 1.0}\n",
            "Best: 0.945017 using {'solver': 'lbfgs', 'penalty': 'l2', 'C': 1.0}\n"
          ]
        }
      ]
    },
    {
      "cell_type": "code",
      "metadata": {
        "id": "xAvZoqnVuFdG"
      },
      "source": [
        "# define the grid of values to search\n",
        "grid = {'solver': ['lbfgs', 'sag'],\n",
        "        'C': np.arange(.1,20,0.5)}\n",
        "i=0\n",
        "while i < 5:\n",
        "  # define the grid search procedure\n",
        "  clf = RandomizedSearchCV(LogisticRegression(max_iter=200, penalty=\"l2\"), grid, n_jobs=-1, cv= 10, scoring='accuracy')\n",
        "  # execute the grid search\n",
        "  grid_result=clf.fit(xtr,ytr)\n",
        "  # summarize the best score and configuration\n",
        "  print(\"Best: %f using %s\" % (grid_result.best_score_, grid_result.best_params_))\n",
        "  clf.best_estimator_\n",
        "  i+=1"
      ],
      "execution_count": null,
      "outputs": []
    },
    {
      "cell_type": "code",
      "metadata": {
        "id": "M4Ba_z8OA_nz"
      },
      "source": [
        "clf = GridSearchCV(LogisticRegression(max_iter=200, penalty=\"l2\", solver = 'lbfgs'), {'C': np.arange(0.6,2.7,0.2)}, cv=10, return_train_score=False, n_jobs=-1)\n",
        "clf.fit(xtr,ytr)\n",
        "clf.best_estimator_"
      ],
      "execution_count": null,
      "outputs": []
    },
    {
      "cell_type": "code",
      "metadata": {
        "id": "xiR4oFklpGcd"
      },
      "source": [
        "from sklearn.linear_model import LogisticRegression\n",
        "logreg = LogisticRegression(C=2.400000000000001, class_weight=None, dual=False,\n",
        "                   fit_intercept=True, intercept_scaling=1, l1_ratio=None,\n",
        "                   max_iter=200, multi_class='auto', n_jobs=None, penalty='l2',\n",
        "                   random_state=None, solver='lbfgs', tol=0.0001, verbose=0,\n",
        "                   warm_start=False)\n",
        "logreg.fit(xtr,ytr)\n",
        "y_pred=logreg.predict(xte)\n",
        "aftr_metrics=model_performance(yte, y_pred) #list of scores after Hyperparameter Tunning\n",
        "plot_cmat(yte, y_pred)"
      ],
      "execution_count": null,
      "outputs": []
    },
    {
      "cell_type": "markdown",
      "metadata": {
        "id": "AGktAeP_fldE"
      },
      "source": []
    },
    {
      "cell_type": "markdown",
      "metadata": {
        "id": "BNizuaV68Rij"
      },
      "source": [
        "### SVM"
      ]
    },
    {
      "cell_type": "code",
      "metadata": {
        "colab": {
          "base_uri": "https://localhost:8080/",
          "height": 416
        },
        "id": "qewRst43Ki4j",
        "outputId": "a5e9b5ed-7a78-4e0e-d057-ac8a8490ba06"
      },
      "source": [
        "from sklearn.svm import SVC\n",
        "from sklearn.pipeline import make_pipeline\n",
        "from sklearn.preprocessing import StandardScaler\n",
        "svc = make_pipeline(StandardScaler(), SVC())\n",
        "svc.fit(xtr, ytr)\n",
        "\n",
        "y_pred = svc.predict(xte)\n",
        "\n",
        "model_performance(yte, y_pred)\n",
        "\n",
        "plot_cmat(yte, y_pred)"
      ],
      "execution_count": null,
      "outputs": [
        {
          "name": "stdout",
          "output_type": "stream",
          "text": [
            "Accuracy of the model: 0.961\n",
            "Percision of the model: 0.96\n",
            "Recall of the model: 0.967\n",
            "F1-score of the model: 0.963\n"
          ]
        },
        {
          "name": "stderr",
          "output_type": "stream",
          "text": [
            "/usr/local/lib/python3.7/dist-packages/sklearn/utils/deprecation.py:87: FutureWarning: Function plot_confusion_matrix is deprecated; This will be removed in v0.4.0. Please use scikitplot.metrics.plot_confusion_matrix instead.\n",
            "  warnings.warn(msg, category=FutureWarning)\n"
          ]
        },
        {
          "data": {
            "image/png": "[encoded data removed]",
            "text/plain": [
              "<Figure size 432x288 with 2 Axes>"
            ]
          },
          "metadata": {},
          "output_type": "display_data"
        }
      ]
    },
    {
      "cell_type": "code",
      "metadata": {
        "colab": {
          "base_uri": "https://localhost:8080/",
          "height": 416
        },
        "id": "B6BlpB5FJic0",
        "outputId": "1f693afc-709f-4197-e4b1-389a24230122"
      },
      "source": [
        "from sklearn.svm import SVC\n",
        "from sklearn.pipeline import make_pipeline\n",
        "from sklearn.preprocessing import StandardScaler\n",
        "svc = make_pipeline(StandardScaler(), SVC(kernel='rbf', C=3))\n",
        "svc.fit(xtr, ytr)\n",
        "\n",
        "y_pred = svc.predict(xte)\n",
        "\n",
        "model_performance(yte, y_pred)\n",
        "\n",
        "plot_cmat(yte, y_pred)"
      ],
      "execution_count": null,
      "outputs": [
        {
          "output_type": "stream",
          "name": "stdout",
          "text": [
            "Accuracy of the model: 0.967\n",
            "Percision of the model: 0.962\n",
            "Recall of the model: 0.975\n",
            "F1-score of the model: 0.969\n"
          ]
        },
        {
          "output_type": "stream",
          "name": "stderr",
          "text": [
            "/usr/local/lib/python3.7/dist-packages/sklearn/utils/deprecation.py:87: FutureWarning: Function plot_confusion_matrix is deprecated; This will be removed in v0.4.0. Please use scikitplot.metrics.plot_confusion_matrix instead.\n",
            "  warnings.warn(msg, category=FutureWarning)\n"
          ]
        },
        {
          "output_type": "display_data",
          "data": {
            "image/png": "[encoded data removed]",
            "text/plain": [
              "<Figure size 432x288 with 2 Axes>"
            ]
          },
          "metadata": {
            "needs_background": "light"
          }
        }
      ]
    },
    {
      "cell_type": "markdown",
      "metadata": {
        "id": "MeYbC4it8Rik"
      },
      "source": [
        "### Linear SVM"
      ]
    },
    {
      "cell_type": "code",
      "metadata": {
        "colab": {
          "base_uri": "https://localhost:8080/",
          "height": 450
        },
        "id": "Tvi3roBKHmtk",
        "outputId": "108fdf78-b40a-48f4-87a6-9febd8baaa05"
      },
      "source": [
        "from sklearn.svm import LinearSVC\n",
        "Lsvm = LinearSVC()\n",
        "Lsvm.fit(xtr, ytr)\n",
        "\n",
        "y_pred = Lsvm.predict(xte)\n",
        "\n",
        "model_performance(yte, y_pred)\n",
        "\n",
        "plot_cmat(yte, y_pred)"
      ],
      "execution_count": null,
      "outputs": [
        {
          "name": "stderr",
          "output_type": "stream",
          "text": [
            "/usr/local/lib/python3.7/dist-packages/sklearn/svm/_base.py:947: ConvergenceWarning: Liblinear failed to converge, increase the number of iterations.\n",
            "  \"the number of iterations.\", ConvergenceWarning)\n",
            "/usr/local/lib/python3.7/dist-packages/sklearn/utils/deprecation.py:87: FutureWarning: Function plot_confusion_matrix is deprecated; This will be removed in v0.4.0. Please use scikitplot.metrics.plot_confusion_matrix instead.\n",
            "  warnings.warn(msg, category=FutureWarning)\n"
          ]
        },
        {
          "name": "stdout",
          "output_type": "stream",
          "text": [
            "Accuracy of the model: 0.943\n",
            "Percision of the model: 0.939\n",
            "Recall of the model: 0.953\n",
            "F1-score of the model: 0.946\n"
          ]
        },
        {
          "data": {
            "image/png": "[encoded data removed]",
            "text/plain": [
              "<Figure size 432x288 with 2 Axes>"
            ]
          },
          "metadata": {},
          "output_type": "display_data"
        }
      ]
    },
    {
      "cell_type": "code",
      "metadata": {
        "colab": {
          "base_uri": "https://localhost:8080/"
        },
        "id": "Ii5DI1qfHyQh",
        "outputId": "b78a4fdd-053c-446a-ca91-085687b0b4b7"
      },
      "source": [
        " #Hyperparameter Tuning\n",
        "# define the grid of values to search\n",
        "grid = {'penalty':[\"l1\",\"l2\"],\n",
        "        'C': [100, 10, 1.0, 0.1, 0.01]}\n",
        "i=0\n",
        "while i < 5:\n",
        "  # define the grid search procedure\n",
        "  clf = RandomizedSearchCV(LinearSVC(), grid, n_jobs=-1, cv= 10, scoring='accuracy')\n",
        "  # execute the grid search\n",
        "  grid_result=clf.fit(xtr,ytr)\n",
        "  # summarize the best score and configuration\n",
        "  print(\"Best: %f using %s\" % (grid_result.best_score_, grid_result.best_params_))\n",
        "  i+=1"
      ],
      "execution_count": null,
      "outputs": [
        {
          "name": "stderr",
          "output_type": "stream",
          "text": [
            "/usr/local/lib/python3.7/dist-packages/joblib/externals/loky/process_executor.py:691: UserWarning: A worker stopped while some jobs were given to the executor. This can be caused by a too short worker timeout or by a memory leak.\n",
            "  \"timeout or by a memory leak.\", UserWarning\n",
            "/usr/local/lib/python3.7/dist-packages/sklearn/svm/_base.py:947: ConvergenceWarning: Liblinear failed to converge, increase the number of iterations.\n",
            "  \"the number of iterations.\", ConvergenceWarning)\n"
          ]
        },
        {
          "name": "stdout",
          "output_type": "stream",
          "text": [
            "Best: 0.944413 using {'penalty': 'l2', 'C': 1.0}\n"
          ]
        },
        {
          "name": "stderr",
          "output_type": "stream",
          "text": [
            "/usr/local/lib/python3.7/dist-packages/joblib/externals/loky/process_executor.py:691: UserWarning: A worker stopped while some jobs were given to the executor. This can be caused by a too short worker timeout or by a memory leak.\n",
            "  \"timeout or by a memory leak.\", UserWarning\n",
            "/usr/local/lib/python3.7/dist-packages/sklearn/svm/_base.py:947: ConvergenceWarning: Liblinear failed to converge, increase the number of iterations.\n",
            "  \"the number of iterations.\", ConvergenceWarning)\n"
          ]
        },
        {
          "name": "stdout",
          "output_type": "stream",
          "text": [
            "Best: 0.944413 using {'penalty': 'l2', 'C': 1.0}\n"
          ]
        },
        {
          "name": "stderr",
          "output_type": "stream",
          "text": [
            "/usr/local/lib/python3.7/dist-packages/sklearn/svm/_base.py:947: ConvergenceWarning: Liblinear failed to converge, increase the number of iterations.\n",
            "  \"the number of iterations.\", ConvergenceWarning)\n"
          ]
        },
        {
          "name": "stdout",
          "output_type": "stream",
          "text": [
            "Best: 0.944444 using {'penalty': 'l2', 'C': 1.0}\n"
          ]
        },
        {
          "name": "stderr",
          "output_type": "stream",
          "text": [
            "/usr/local/lib/python3.7/dist-packages/sklearn/svm/_base.py:947: ConvergenceWarning: Liblinear failed to converge, increase the number of iterations.\n",
            "  \"the number of iterations.\", ConvergenceWarning)\n"
          ]
        },
        {
          "name": "stdout",
          "output_type": "stream",
          "text": [
            "Best: 0.944476 using {'penalty': 'l2', 'C': 1.0}\n",
            "Best: 0.944413 using {'penalty': 'l2', 'C': 1.0}\n"
          ]
        },
        {
          "name": "stderr",
          "output_type": "stream",
          "text": [
            "/usr/local/lib/python3.7/dist-packages/sklearn/svm/_base.py:947: ConvergenceWarning: Liblinear failed to converge, increase the number of iterations.\n",
            "  \"the number of iterations.\", ConvergenceWarning)\n"
          ]
        }
      ]
    },
    {
      "cell_type": "code",
      "metadata": {
        "colab": {
          "base_uri": "https://localhost:8080/"
        },
        "id": "tFhPNbdem9y8",
        "outputId": "e447da99-3afb-432b-fb7b-cbbdf7235cd8"
      },
      "source": [
        "grid = {'C': [5, 1.0, 0.5, 0.1, 0.05, 0.005, 0.001]}\n",
        "i=0\n",
        "while i < 5:\n",
        "  # define the grid search procedure\n",
        "  clf = RandomizedSearchCV(LinearSVC(penalty=\"l2\"), grid, n_jobs=-1, cv= 10, scoring='accuracy')\n",
        "  # execute the grid search\n",
        "  grid_result=clf.fit(xtr,ytr)\n",
        "  # summarize the best score and configuration\n",
        "  print(\"Best: %f using %s\" % (grid_result.best_score_, grid_result.best_params_))\n",
        "  i+=1"
      ],
      "execution_count": null,
      "outputs": [
        {
          "name": "stderr",
          "output_type": "stream",
          "text": [
            "/usr/local/lib/python3.7/dist-packages/sklearn/model_selection/_search.py:281: UserWarning: The total space of parameters 7 is smaller than n_iter=10. Running 7 iterations. For exhaustive searches, use GridSearchCV.\n",
            "  % (grid_size, self.n_iter, grid_size), UserWarning)\n",
            "/usr/local/lib/python3.7/dist-packages/sklearn/svm/_base.py:947: ConvergenceWarning: Liblinear failed to converge, increase the number of iterations.\n",
            "  \"the number of iterations.\", ConvergenceWarning)\n",
            "/usr/local/lib/python3.7/dist-packages/sklearn/model_selection/_search.py:281: UserWarning: The total space of parameters 7 is smaller than n_iter=10. Running 7 iterations. For exhaustive searches, use GridSearchCV.\n",
            "  % (grid_size, self.n_iter, grid_size), UserWarning)\n"
          ]
        },
        {
          "name": "stdout",
          "output_type": "stream",
          "text": [
            "Best: 0.944412 using {'C': 0.5}\n"
          ]
        },
        {
          "name": "stderr",
          "output_type": "stream",
          "text": [
            "/usr/local/lib/python3.7/dist-packages/sklearn/svm/_base.py:947: ConvergenceWarning: Liblinear failed to converge, increase the number of iterations.\n",
            "  \"the number of iterations.\", ConvergenceWarning)\n",
            "/usr/local/lib/python3.7/dist-packages/sklearn/model_selection/_search.py:281: UserWarning: The total space of parameters 7 is smaller than n_iter=10. Running 7 iterations. For exhaustive searches, use GridSearchCV.\n",
            "  % (grid_size, self.n_iter, grid_size), UserWarning)\n"
          ]
        },
        {
          "name": "stdout",
          "output_type": "stream",
          "text": [
            "Best: 0.944412 using {'C': 0.5}\n"
          ]
        },
        {
          "name": "stderr",
          "output_type": "stream",
          "text": [
            "/usr/local/lib/python3.7/dist-packages/sklearn/svm/_base.py:947: ConvergenceWarning: Liblinear failed to converge, increase the number of iterations.\n",
            "  \"the number of iterations.\", ConvergenceWarning)\n",
            "/usr/local/lib/python3.7/dist-packages/sklearn/model_selection/_search.py:281: UserWarning: The total space of parameters 7 is smaller than n_iter=10. Running 7 iterations. For exhaustive searches, use GridSearchCV.\n",
            "  % (grid_size, self.n_iter, grid_size), UserWarning)\n"
          ]
        },
        {
          "name": "stdout",
          "output_type": "stream",
          "text": [
            "Best: 0.944444 using {'C': 1.0}\n"
          ]
        },
        {
          "name": "stderr",
          "output_type": "stream",
          "text": [
            "/usr/local/lib/python3.7/dist-packages/sklearn/svm/_base.py:947: ConvergenceWarning: Liblinear failed to converge, increase the number of iterations.\n",
            "  \"the number of iterations.\", ConvergenceWarning)\n",
            "/usr/local/lib/python3.7/dist-packages/sklearn/model_selection/_search.py:281: UserWarning: The total space of parameters 7 is smaller than n_iter=10. Running 7 iterations. For exhaustive searches, use GridSearchCV.\n",
            "  % (grid_size, self.n_iter, grid_size), UserWarning)\n"
          ]
        },
        {
          "name": "stdout",
          "output_type": "stream",
          "text": [
            "Best: 0.944381 using {'C': 0.5}\n",
            "Best: 0.944444 using {'C': 0.5}\n"
          ]
        },
        {
          "name": "stderr",
          "output_type": "stream",
          "text": [
            "/usr/local/lib/python3.7/dist-packages/sklearn/svm/_base.py:947: ConvergenceWarning: Liblinear failed to converge, increase the number of iterations.\n",
            "  \"the number of iterations.\", ConvergenceWarning)\n"
          ]
        }
      ]
    },
    {
      "cell_type": "code",
      "metadata": {
        "colab": {
          "base_uri": "https://localhost:8080/"
        },
        "id": "4E6glUFDgQzf",
        "outputId": "7a78cf46-f807-40bc-9614-adef89692b26"
      },
      "source": [
        "clf = GridSearchCV(LinearSVC(penalty= 'l2'), { 'C': np.arange(0,1.1,.1)}, cv=10, return_train_score=False, n_jobs=-1)\n",
        "clf.fit(xtr, ytr)\n",
        "clf.best_estimator_"
      ],
      "execution_count": null,
      "outputs": [
        {
          "name": "stderr",
          "output_type": "stream",
          "text": [
            "/usr/local/lib/python3.7/dist-packages/sklearn/svm/_base.py:947: ConvergenceWarning: Liblinear failed to converge, increase the number of iterations.\n",
            "  \"the number of iterations.\", ConvergenceWarning)\n"
          ]
        },
        {
          "data": {
            "text/plain": [
              "LinearSVC(C=0.5, class_weight=None, dual=True, fit_intercept=True,\n",
              "          intercept_scaling=1, loss='squared_hinge', max_iter=1000,\n",
              "          multi_class='ovr', penalty='l2', random_state=None, tol=0.0001,\n",
              "          verbose=0)"
            ]
          },
          "execution_count": 13,
          "metadata": {},
          "output_type": "execute_result"
        }
      ]
    },
    {
      "cell_type": "code",
      "metadata": {
        "colab": {
          "base_uri": "https://localhost:8080/",
          "height": 450
        },
        "id": "rwKQBMEu8Ril",
        "outputId": "238d9598-453c-4317-f0a2-c7a2d01e44d6"
      },
      "source": [
        "Lsvm = LinearSVC(penalty= 'l2', C=1)\n",
        "Lsvm.fit(xtr, ytr)\n",
        "y_pred = Lsvm.predict(xte)\n",
        "\n",
        "model_performance(yte, y_pred)\n",
        "\n",
        "plot_cmat(yte, y_pred)"
      ],
      "execution_count": null,
      "outputs": [
        {
          "name": "stderr",
          "output_type": "stream",
          "text": [
            "/usr/local/lib/python3.7/dist-packages/sklearn/svm/_base.py:947: ConvergenceWarning: Liblinear failed to converge, increase the number of iterations.\n",
            "  \"the number of iterations.\", ConvergenceWarning)\n",
            "/usr/local/lib/python3.7/dist-packages/sklearn/utils/deprecation.py:87: FutureWarning: Function plot_confusion_matrix is deprecated; This will be removed in v0.4.0. Please use scikitplot.metrics.plot_confusion_matrix instead.\n",
            "  warnings.warn(msg, category=FutureWarning)\n"
          ]
        },
        {
          "name": "stdout",
          "output_type": "stream",
          "text": [
            "Accuracy of the model: 0.943\n",
            "Percision of the model: 0.939\n",
            "Recall of the model: 0.953\n",
            "F1-score of the model: 0.946\n"
          ]
        },
        {
          "data": {
            "image/png": "[encoded data removed]",
            "text/plain": [
              "<Figure size 432x288 with 2 Axes>"
            ]
          },
          "metadata": {},
          "output_type": "display_data"
        }
      ]
    },
    {
      "cell_type": "code",
      "metadata": {
        "colab": {
          "base_uri": "https://localhost:8080/",
          "height": 450
        },
        "id": "yMyUJNJ_1G50",
        "outputId": "093684f3-ebd3-48eb-bbad-eba1b403adc0"
      },
      "source": [
        "from sklearn.svm import LinearSVC\n",
        "Lsvm = LinearSVC(penalty= 'l2', C=.5)\n",
        "Lsvm.fit(xtr, ytr)\n",
        "y_pred = Lsvm.predict(xte)\n",
        "\n",
        "model_performance(yte, y_pred)\n",
        "\n",
        "plot_cmat(yte, y_pred)"
      ],
      "execution_count": null,
      "outputs": [
        {
          "output_type": "stream",
          "name": "stderr",
          "text": [
            "/usr/local/lib/python3.7/dist-packages/sklearn/svm/_base.py:947: ConvergenceWarning: Liblinear failed to converge, increase the number of iterations.\n",
            "  \"the number of iterations.\", ConvergenceWarning)\n",
            "/usr/local/lib/python3.7/dist-packages/sklearn/utils/deprecation.py:87: FutureWarning: Function plot_confusion_matrix is deprecated; This will be removed in v0.4.0. Please use scikitplot.metrics.plot_confusion_matrix instead.\n",
            "  warnings.warn(msg, category=FutureWarning)\n"
          ]
        },
        {
          "output_type": "stream",
          "name": "stdout",
          "text": [
            "Accuracy of the model: 0.945\n",
            "Percision of the model: 0.939\n",
            "Recall of the model: 0.956\n",
            "F1-score of the model: 0.947\n"
          ]
        },
        {
          "output_type": "display_data",
          "data": {
            "image/png": "[encoded data removed]",
            "text/plain": [
              "<Figure size 432x288 with 2 Axes>"
            ]
          },
          "metadata": {
            "needs_background": "light"
          }
        }
      ]
    },
    {
      "cell_type": "markdown",
      "metadata": {
        "id": "5YaDpACx8Rim"
      },
      "source": [
        "### KNN"
      ]
    },
    {
      "cell_type": "code",
      "metadata": {
        "colab": {
          "base_uri": "https://localhost:8080/",
          "height": 416
        },
        "id": "WTnn7XwK8Rim",
        "outputId": "53bd2563-ece1-4e6a-ff79-7357b9e8e876"
      },
      "source": [
        "# Import necessary modules\n",
        "from sklearn.neighbors import KNeighborsClassifier\n",
        " \n",
        "knn = KNeighborsClassifier(n_neighbors=7)\n",
        "knn.fit(xtr, ytr)\n",
        "y_pred = knn.predict(xte)\n",
        "\n",
        "model_performance(yte, y_pred)\n",
        "\n",
        "plot_cmat(yte, y_pred)"
      ],
      "execution_count": null,
      "outputs": [
        {
          "name": "stdout",
          "output_type": "stream",
          "text": [
            "Accuracy of the model: 0.807\n",
            "Percision of the model: 0.848\n",
            "Recall of the model: 0.77\n",
            "F1-score of the model: 0.807\n"
          ]
        },
        {
          "name": "stderr",
          "output_type": "stream",
          "text": [
            "/usr/local/lib/python3.7/dist-packages/sklearn/utils/deprecation.py:87: FutureWarning: Function plot_confusion_matrix is deprecated; This will be removed in v0.4.0. Please use scikitplot.metrics.plot_confusion_matrix instead.\n",
            "  warnings.warn(msg, category=FutureWarning)\n"
          ]
        },
        {
          "data": {
            "image/png": "[encoded data removed]",
            "text/plain": [
              "<Figure size 432x288 with 2 Axes>"
            ]
          },
          "metadata": {},
          "output_type": "display_data"
        }
      ]
    },
    {
      "cell_type": "code",
      "metadata": {
        "colab": {
          "base_uri": "https://localhost:8080/",
          "height": 416
        },
        "id": "mEStHjZO4Jui",
        "outputId": "3bdc8df2-03af-40cd-c1ae-3fea986279fa"
      },
      "source": [
        "# Import necessary modules\n",
        "from sklearn.neighbors import KNeighborsClassifier\n",
        " \n",
        "knn = KNeighborsClassifier(n_neighbors=3)\n",
        "knn.fit(xtr, ytr)\n",
        "y_pred = knn.predict(xte)\n",
        "\n",
        "model_performance(yte, y_pred)\n",
        "\n",
        "plot_cmat(yte, y_pred)"
      ],
      "execution_count": null,
      "outputs": [
        {
          "output_type": "stream",
          "name": "stdout",
          "text": [
            "Accuracy of the model: 0.818\n",
            "Percision of the model: 0.853\n",
            "Recall of the model: 0.789\n",
            "F1-score of the model: 0.82\n"
          ]
        },
        {
          "output_type": "stream",
          "name": "stderr",
          "text": [
            "/usr/local/lib/python3.7/dist-packages/sklearn/utils/deprecation.py:87: FutureWarning: Function plot_confusion_matrix is deprecated; This will be removed in v0.4.0. Please use scikitplot.metrics.plot_confusion_matrix instead.\n",
            "  warnings.warn(msg, category=FutureWarning)\n"
          ]
        },
        {
          "output_type": "display_data",
          "data": {
            "image/png": "[encoded data removed]",
            "text/plain": [
              "<Figure size 432x288 with 2 Axes>"
            ]
          },
          "metadata": {
            "needs_background": "light"
          }
        }
      ]
    },
    {
      "cell_type": "code",
      "metadata": {
        "colab": {
          "base_uri": "https://localhost:8080/",
          "height": 416
        },
        "id": "xCYD3l0L7i2B",
        "outputId": "092f07df-14de-4c99-d0c0-1effab1ebf0c"
      },
      "source": [
        "# Import necessary modules\n",
        "from sklearn.neighbors import KNeighborsClassifier\n",
        " \n",
        "knn = KNeighborsClassifier(n_neighbors=3, p=1)\n",
        "knn.fit(xtr, ytr)\n",
        "y_pred = knn.predict(xte)\n",
        "\n",
        "model_performance(yte, y_pred)\n",
        "\n",
        "plot_cmat(yte, y_pred)"
      ],
      "execution_count": null,
      "outputs": [
        {
          "output_type": "stream",
          "name": "stdout",
          "text": [
            "Accuracy of the model: 0.815\n",
            "Percision of the model: 0.849\n",
            "Recall of the model: 0.786\n",
            "F1-score of the model: 0.816\n"
          ]
        },
        {
          "output_type": "stream",
          "name": "stderr",
          "text": [
            "/usr/local/lib/python3.7/dist-packages/sklearn/utils/deprecation.py:87: FutureWarning: Function plot_confusion_matrix is deprecated; This will be removed in v0.4.0. Please use scikitplot.metrics.plot_confusion_matrix instead.\n",
            "  warnings.warn(msg, category=FutureWarning)\n"
          ]
        },
        {
          "output_type": "display_data",
          "data": {
            "image/png": "[encoded data removed]",
            "text/plain": [
              "<Figure size 432x288 with 2 Axes>"
            ]
          },
          "metadata": {
            "needs_background": "light"
          }
        }
      ]
    },
    {
      "cell_type": "code",
      "metadata": {
        "colab": {
          "base_uri": "https://localhost:8080/",
          "height": 416
        },
        "id": "o8_V_3smnDMQ",
        "outputId": "3678e9db-1930-4640-ba2e-bf45d7b66332"
      },
      "source": [
        "# Import necessary modules\n",
        "from sklearn.neighbors import KNeighborsClassifier\n",
        " \n",
        "knn = KNeighborsClassifier(n_neighbors=1, p=1)\n",
        "knn.fit(xtr, ytr)\n",
        "y_pred = knn.predict(xte)\n",
        "\n",
        "model_performance(yte, y_pred)\n",
        "\n",
        "plot_cmat(yte, y_pred)"
      ],
      "execution_count": null,
      "outputs": [
        {
          "output_type": "stream",
          "name": "stdout",
          "text": [
            "Accuracy of the model: 0.837\n",
            "Percision of the model: 0.863\n",
            "Recall of the model: 0.819\n",
            "F1-score of the model: 0.84\n"
          ]
        },
        {
          "output_type": "stream",
          "name": "stderr",
          "text": [
            "/usr/local/lib/python3.7/dist-packages/sklearn/utils/deprecation.py:87: FutureWarning: Function plot_confusion_matrix is deprecated; This will be removed in v0.4.0. Please use scikitplot.metrics.plot_confusion_matrix instead.\n",
            "  warnings.warn(msg, category=FutureWarning)\n"
          ]
        },
        {
          "output_type": "display_data",
          "data": {
            "image/png": "[encoded data removed]",
            "text/plain": [
              "<Figure size 432x288 with 2 Axes>"
            ]
          },
          "metadata": {
            "needs_background": "light"
          }
        }
      ]
    },
    {
      "cell_type": "code",
      "metadata": {
        "colab": {
          "base_uri": "https://localhost:8080/",
          "height": 416
        },
        "id": "CsTsNIRHnGVB",
        "outputId": "ee0f90b4-d7dc-4cf1-9bde-591ca2a210fb"
      },
      "source": [
        "# Import necessary modules\n",
        "from sklearn.neighbors import KNeighborsClassifier\n",
        " \n",
        "knn = KNeighborsClassifier(n_neighbors=1)\n",
        "knn.fit(xtr, ytr)\n",
        "y_pred = knn.predict(xte)\n",
        "\n",
        "model_performance(yte, y_pred)\n",
        "\n",
        "plot_cmat(yte, y_pred)"
      ],
      "execution_count": null,
      "outputs": [
        {
          "output_type": "stream",
          "name": "stdout",
          "text": [
            "Accuracy of the model: 0.84\n",
            "Percision of the model: 0.865\n",
            "Recall of the model: 0.823\n",
            "F1-score of the model: 0.844\n"
          ]
        },
        {
          "output_type": "stream",
          "name": "stderr",
          "text": [
            "/usr/local/lib/python3.7/dist-packages/sklearn/utils/deprecation.py:87: FutureWarning: Function plot_confusion_matrix is deprecated; This will be removed in v0.4.0. Please use scikitplot.metrics.plot_confusion_matrix instead.\n",
            "  warnings.warn(msg, category=FutureWarning)\n"
          ]
        },
        {
          "output_type": "display_data",
          "data": {
            "image/png": "[encoded data removed]",
            "text/plain": [
              "<Figure size 432x288 with 2 Axes>"
            ]
          },
          "metadata": {
            "needs_background": "light"
          }
        }
      ]
    },
    {
      "cell_type": "markdown",
      "metadata": {
        "id": "5fAefY6J8Rin"
      },
      "source": [
        "### PassiveAggressiveClassifier"
      ]
    },
    {
      "cell_type": "code",
      "metadata": {
        "colab": {
          "base_uri": "https://localhost:8080/",
          "height": 416
        },
        "id": "Hy7znYmF8Rin",
        "outputId": "9eaa82eb-d339-4770-eef9-28abe836117b"
      },
      "source": [
        "from sklearn.linear_model import PassiveAggressiveClassifier\n",
        "#Initialize a PassiveAggressiveClassifier\n",
        "pac=PassiveAggressiveClassifier(max_iter=50)\n",
        "pac.fit(xtr,ytr)\n",
        "y_pred=pac.predict(xte)\n",
        "\n",
        "model_performance(yte, y_pred)\n",
        "\n",
        "plot_cmat(yte, y_pred)"
      ],
      "execution_count": null,
      "outputs": [
        {
          "name": "stdout",
          "output_type": "stream",
          "text": [
            "Accuracy of the model: 0.916\n",
            "Percision of the model: 0.908\n",
            "Recall of the model: 0.934\n",
            "F1-score of the model: 0.921\n"
          ]
        },
        {
          "name": "stderr",
          "output_type": "stream",
          "text": [
            "/usr/local/lib/python3.7/dist-packages/sklearn/utils/deprecation.py:87: FutureWarning: Function plot_confusion_matrix is deprecated; This will be removed in v0.4.0. Please use scikitplot.metrics.plot_confusion_matrix instead.\n",
            "  warnings.warn(msg, category=FutureWarning)\n"
          ]
        },
        {
          "data": {
            "image/png": "[encoded data removed]",
            "text/plain": [
              "<Figure size 432x288 with 2 Axes>"
            ]
          },
          "metadata": {},
          "output_type": "display_data"
        }
      ]
    },
    {
      "cell_type": "code",
      "metadata": {
        "colab": {
          "base_uri": "https://localhost:8080/"
        },
        "id": "3AZ1c1tZOxa9",
        "outputId": "a3813d0d-1b4d-4eaa-ba53-d0eab26b2aaa"
      },
      "source": [
        " #Hyperparameter Tuning\n",
        "# define the grid of values to search\n",
        "grid = {'C': [100, 10, 1.0, 0.1, 0.01, 0.001]}\n",
        "i=0\n",
        "while i < 5:\n",
        "  # define the grid search procedure\n",
        "  clf = RandomizedSearchCV(PassiveAggressiveClassifier(n_jobs=-1, random_state=5), grid, n_jobs=-1, cv= 10, scoring='accuracy')\n",
        "  # execute the grid search\n",
        "  grid_result=clf.fit(xtr,ytr)\n",
        "  # summarize the best score and configuration\n",
        "  print(\"Best: %f using %s\" % (grid_result.best_score_, grid_result.best_params_))\n",
        "  i+=1"
      ],
      "execution_count": null,
      "outputs": [
        {
          "name": "stderr",
          "output_type": "stream",
          "text": [
            "/usr/local/lib/python3.7/dist-packages/sklearn/model_selection/_search.py:281: UserWarning: The total space of parameters 6 is smaller than n_iter=10. Running 6 iterations. For exhaustive searches, use GridSearchCV.\n",
            "  % (grid_size, self.n_iter, grid_size), UserWarning)\n"
          ]
        },
        {
          "name": "stdout",
          "output_type": "stream",
          "text": [
            "Best: 0.941231 using {'C': 0.01}\n"
          ]
        },
        {
          "name": "stderr",
          "output_type": "stream",
          "text": [
            "/usr/local/lib/python3.7/dist-packages/sklearn/model_selection/_search.py:281: UserWarning: The total space of parameters 6 is smaller than n_iter=10. Running 6 iterations. For exhaustive searches, use GridSearchCV.\n",
            "  % (grid_size, self.n_iter, grid_size), UserWarning)\n"
          ]
        },
        {
          "name": "stdout",
          "output_type": "stream",
          "text": [
            "Best: 0.941231 using {'C': 0.01}\n"
          ]
        },
        {
          "name": "stderr",
          "output_type": "stream",
          "text": [
            "/usr/local/lib/python3.7/dist-packages/sklearn/model_selection/_search.py:281: UserWarning: The total space of parameters 6 is smaller than n_iter=10. Running 6 iterations. For exhaustive searches, use GridSearchCV.\n",
            "  % (grid_size, self.n_iter, grid_size), UserWarning)\n"
          ]
        },
        {
          "name": "stdout",
          "output_type": "stream",
          "text": [
            "Best: 0.941231 using {'C': 0.01}\n"
          ]
        },
        {
          "name": "stderr",
          "output_type": "stream",
          "text": [
            "/usr/local/lib/python3.7/dist-packages/sklearn/model_selection/_search.py:281: UserWarning: The total space of parameters 6 is smaller than n_iter=10. Running 6 iterations. For exhaustive searches, use GridSearchCV.\n",
            "  % (grid_size, self.n_iter, grid_size), UserWarning)\n"
          ]
        },
        {
          "name": "stdout",
          "output_type": "stream",
          "text": [
            "Best: 0.941231 using {'C': 0.01}\n"
          ]
        },
        {
          "name": "stderr",
          "output_type": "stream",
          "text": [
            "/usr/local/lib/python3.7/dist-packages/sklearn/model_selection/_search.py:281: UserWarning: The total space of parameters 6 is smaller than n_iter=10. Running 6 iterations. For exhaustive searches, use GridSearchCV.\n",
            "  % (grid_size, self.n_iter, grid_size), UserWarning)\n"
          ]
        },
        {
          "name": "stdout",
          "output_type": "stream",
          "text": [
            "Best: 0.941231 using {'C': 0.01}\n"
          ]
        }
      ]
    },
    {
      "cell_type": "code",
      "metadata": {
        "id": "CO-4vy6r7QNC"
      },
      "source": [
        "from sklearn.linear_model import PassiveAggressiveClassifier"
      ],
      "execution_count": null,
      "outputs": []
    },
    {
      "cell_type": "code",
      "metadata": {
        "colab": {
          "base_uri": "https://localhost:8080/"
        },
        "id": "41TkiAXz1vKr",
        "outputId": "fcab6eda-1196-4583-b186-bb8ed8ce3811"
      },
      "source": [
        "grid = {'C': [0.1, 0.01, 0.001, 0.0001,0.00001,0.000001,0.000000001]}\n",
        "i=0\n",
        "while i < 5:\n",
        "  # define the grid search procedure\n",
        "  clf = RandomizedSearchCV(PassiveAggressiveClassifier(max_iter=50, n_jobs=-1, random_state=5), grid, n_jobs=-1, cv= 10, scoring='accuracy')\n",
        "  # execute the grid search\n",
        "  grid_result=clf.fit(xtr,ytr)\n",
        "  # summarize the best score and configuration\n",
        "  print(\"Best: %f using %s\" % (grid_result.best_score_, grid_result.best_params_))\n",
        "  i+=1"
      ],
      "execution_count": null,
      "outputs": [
        {
          "name": "stderr",
          "output_type": "stream",
          "text": [
            "/usr/local/lib/python3.7/dist-packages/sklearn/model_selection/_search.py:281: UserWarning: The total space of parameters 7 is smaller than n_iter=10. Running 7 iterations. For exhaustive searches, use GridSearchCV.\n",
            "  % (grid_size, self.n_iter, grid_size), UserWarning)\n"
          ]
        },
        {
          "name": "stdout",
          "output_type": "stream",
          "text": [
            "Best: 0.941644 using {'C': 0.0001}\n"
          ]
        },
        {
          "name": "stderr",
          "output_type": "stream",
          "text": [
            "/usr/local/lib/python3.7/dist-packages/sklearn/model_selection/_search.py:281: UserWarning: The total space of parameters 7 is smaller than n_iter=10. Running 7 iterations. For exhaustive searches, use GridSearchCV.\n",
            "  % (grid_size, self.n_iter, grid_size), UserWarning)\n"
          ]
        },
        {
          "name": "stdout",
          "output_type": "stream",
          "text": [
            "Best: 0.941644 using {'C': 0.0001}\n"
          ]
        },
        {
          "name": "stderr",
          "output_type": "stream",
          "text": [
            "/usr/local/lib/python3.7/dist-packages/sklearn/model_selection/_search.py:281: UserWarning: The total space of parameters 7 is smaller than n_iter=10. Running 7 iterations. For exhaustive searches, use GridSearchCV.\n",
            "  % (grid_size, self.n_iter, grid_size), UserWarning)\n"
          ]
        },
        {
          "name": "stdout",
          "output_type": "stream",
          "text": [
            "Best: 0.941644 using {'C': 0.0001}\n"
          ]
        },
        {
          "name": "stderr",
          "output_type": "stream",
          "text": [
            "/usr/local/lib/python3.7/dist-packages/sklearn/model_selection/_search.py:281: UserWarning: The total space of parameters 7 is smaller than n_iter=10. Running 7 iterations. For exhaustive searches, use GridSearchCV.\n",
            "  % (grid_size, self.n_iter, grid_size), UserWarning)\n"
          ]
        },
        {
          "name": "stdout",
          "output_type": "stream",
          "text": [
            "Best: 0.941644 using {'C': 0.0001}\n"
          ]
        },
        {
          "name": "stderr",
          "output_type": "stream",
          "text": [
            "/usr/local/lib/python3.7/dist-packages/sklearn/model_selection/_search.py:281: UserWarning: The total space of parameters 7 is smaller than n_iter=10. Running 7 iterations. For exhaustive searches, use GridSearchCV.\n",
            "  % (grid_size, self.n_iter, grid_size), UserWarning)\n"
          ]
        },
        {
          "name": "stdout",
          "output_type": "stream",
          "text": [
            "Best: 0.941644 using {'C': 0.0001}\n"
          ]
        }
      ]
    },
    {
      "cell_type": "code",
      "metadata": {
        "colab": {
          "base_uri": "https://localhost:8080/"
        },
        "id": "2yfTG4NzLU-D",
        "outputId": "3efe1020-41ce-4a23-82a0-a1d63a3ac8b9"
      },
      "source": [
        "clf = GridSearchCV(PassiveAggressiveClassifier(max_iter=50, n_jobs=-1, random_state=5), { 'C': [0.00005, 0.0001, 0.00015]}, cv=10, return_train_score=False, n_jobs=-1)\n",
        "clf.fit(xtr, ytr)\n",
        "clf.best_estimator_"
      ],
      "execution_count": null,
      "outputs": [
        {
          "data": {
            "text/plain": [
              "PassiveAggressiveClassifier(C=5e-05, average=False, class_weight=None,\n",
              "                            early_stopping=False, fit_intercept=True,\n",
              "                            loss='hinge', max_iter=50, n_iter_no_change=5,\n",
              "                            n_jobs=-1, random_state=5, shuffle=True, tol=0.001,\n",
              "                            validation_fraction=0.1, verbose=0,\n",
              "                            warm_start=False)"
            ]
          },
          "execution_count": 28,
          "metadata": {},
          "output_type": "execute_result"
        }
      ]
    },
    {
      "cell_type": "code",
      "metadata": {
        "colab": {
          "base_uri": "https://localhost:8080/",
          "height": 416
        },
        "id": "RoAjKmtZOoG7",
        "outputId": "1bac7cf5-e648-45a0-f22a-355e10167e56"
      },
      "source": [
        "from sklearn.linear_model import PassiveAggressiveClassifier\n",
        "pac=PassiveAggressiveClassifier(C=5e-05, max_iter=50, n_jobs=-1, random_state=5)\n",
        "pac.fit(xtr,ytr)\n",
        "y_pred=pac.predict(xte)\n",
        "\n",
        "model_performance(yte, y_pred)\n",
        "\n",
        "plot_cmat(yte, y_pred)"
      ],
      "execution_count": null,
      "outputs": [
        {
          "output_type": "stream",
          "name": "stdout",
          "text": [
            "Accuracy of the model: 0.946\n",
            "Percision of the model: 0.949\n",
            "Recall of the model: 0.947\n",
            "F1-score of the model: 0.948\n"
          ]
        },
        {
          "output_type": "stream",
          "name": "stderr",
          "text": [
            "/usr/local/lib/python3.7/dist-packages/sklearn/utils/deprecation.py:87: FutureWarning: Function plot_confusion_matrix is deprecated; This will be removed in v0.4.0. Please use scikitplot.metrics.plot_confusion_matrix instead.\n",
            "  warnings.warn(msg, category=FutureWarning)\n"
          ]
        },
        {
          "output_type": "display_data",
          "data": {
            "image/png": "[encoded data removed]",
            "text/plain": [
              "<Figure size 432x288 with 2 Axes>"
            ]
          },
          "metadata": {
            "needs_background": "light"
          }
        }
      ]
    },
    {
      "cell_type": "markdown",
      "metadata": {
        "id": "saojnCAm8Rin"
      },
      "source": [
        "### Bagging"
      ]
    },
    {
      "cell_type": "markdown",
      "metadata": {
        "id": "I2JpivZi8Rin"
      },
      "source": [
        "#### RandomForestClassifier"
      ]
    },
    {
      "cell_type": "code",
      "metadata": {
        "colab": {
          "base_uri": "https://localhost:8080/",
          "height": 416
        },
        "id": "tRrzhcPA8Rio",
        "outputId": "c2ba4a97-0bc8-4738-a82d-3c457d7c09e4"
      },
      "source": [
        "from sklearn.ensemble import RandomForestClassifier\n",
        "random_forest = RandomForestClassifier(n_estimators=200,n_jobs=-1)\n",
        "    \n",
        "random_forest.fit(xtr,ytr)\n",
        "y_pred=random_forest.predict(xte)\n",
        "\n",
        "model_performance(yte, y_pred)\n",
        "\n",
        "plot_cmat(yte, y_pred)"
      ],
      "execution_count": null,
      "outputs": [
        {
          "name": "stdout",
          "output_type": "stream",
          "text": [
            "Accuracy of the model: 0.941\n",
            "Percision of the model: 0.937\n",
            "Recall of the model: 0.951\n",
            "F1-score of the model: 0.944\n"
          ]
        },
        {
          "name": "stderr",
          "output_type": "stream",
          "text": [
            "/usr/local/lib/python3.7/dist-packages/sklearn/utils/deprecation.py:87: FutureWarning: Function plot_confusion_matrix is deprecated; This will be removed in v0.4.0. Please use scikitplot.metrics.plot_confusion_matrix instead.\n",
            "  warnings.warn(msg, category=FutureWarning)\n"
          ]
        },
        {
          "data": {
            "image/png": "[encoded data removed]",
            "text/plain": [
              "<Figure size 432x288 with 2 Axes>"
            ]
          },
          "metadata": {},
          "output_type": "display_data"
        }
      ]
    },
    {
      "cell_type": "code",
      "metadata": {
        "id": "qUxsc58ZKh-h",
        "colab": {
          "base_uri": "https://localhost:8080/",
          "height": 416
        },
        "outputId": "e5e64c88-4235-45c3-8bcc-545e892febcc"
      },
      "source": [
        "#max_features=auto (sqrt(n_features))\n",
        "from sklearn.ensemble import RandomForestClassifier\n",
        "random_forest = RandomForestClassifier(n_estimators=800,n_jobs=-1)\n",
        "    \n",
        "random_forest.fit(xtr,ytr)\n",
        "y_pred=random_forest.predict(xte)\n",
        "\n",
        "model_performance(yte, y_pred)\n",
        "\n",
        "plot_cmat(yte, y_pred)"
      ],
      "execution_count": null,
      "outputs": [
        {
          "output_type": "stream",
          "name": "stdout",
          "text": [
            "Accuracy of the model: 0.943\n",
            "Percision of the model: 0.938\n",
            "Recall of the model: 0.954\n",
            "F1-score of the model: 0.946\n"
          ]
        },
        {
          "output_type": "stream",
          "name": "stderr",
          "text": [
            "/usr/local/lib/python3.7/dist-packages/sklearn/utils/deprecation.py:87: FutureWarning: Function plot_confusion_matrix is deprecated; This will be removed in v0.4.0. Please use scikitplot.metrics.plot_confusion_matrix instead.\n",
            "  warnings.warn(msg, category=FutureWarning)\n"
          ]
        },
        {
          "output_type": "display_data",
          "data": {
            "image/png": "[encoded data removed]",
            "text/plain": [
              "<Figure size 432x288 with 2 Axes>"
            ]
          },
          "metadata": {
            "needs_background": "light"
          }
        }
      ]
    },
    {
      "cell_type": "code",
      "metadata": {
        "colab": {
          "base_uri": "https://localhost:8080/",
          "height": 416
        },
        "id": "Ro9szjj3fPb1",
        "outputId": "65aa97c4-75f4-4fa9-dcc1-adadbc44e4a5"
      },
      "source": [
        "#max_features='log2'\n",
        "from sklearn.ensemble import RandomForestClassifier\n",
        "random_forest = RandomForestClassifier(n_estimators=800,max_features='log2', n_jobs=-1)\n",
        "\n",
        "random_forest.fit(xtr,ytr)\n",
        "y_pred=random_forest.predict(xte)\n",
        "\n",
        "model_performance(yte, y_pred)\n",
        "\n",
        "plot_cmat(yte, y_pred)"
      ],
      "execution_count": null,
      "outputs": [
        {
          "output_type": "stream",
          "name": "stdout",
          "text": [
            "Accuracy of the model: 0.947\n",
            "Percision of the model: 0.942\n",
            "Recall of the model: 0.958\n",
            "F1-score of the model: 0.95\n"
          ]
        },
        {
          "output_type": "stream",
          "name": "stderr",
          "text": [
            "/usr/local/lib/python3.7/dist-packages/sklearn/utils/deprecation.py:87: FutureWarning: Function plot_confusion_matrix is deprecated; This will be removed in v0.4.0. Please use scikitplot.metrics.plot_confusion_matrix instead.\n",
            "  warnings.warn(msg, category=FutureWarning)\n"
          ]
        },
        {
          "output_type": "display_data",
          "data": {
            "image/png": "[encoded data removed]",
            "text/plain": [
              "<Figure size 432x288 with 2 Axes>"
            ]
          },
          "metadata": {
            "needs_background": "light"
          }
        }
      ]
    },
    {
      "cell_type": "markdown",
      "metadata": {
        "id": "M1wGXW55H6AF"
      },
      "source": [
        "#### BaggingClassifier"
      ]
    },
    {
      "cell_type": "code",
      "metadata": {
        "colab": {
          "base_uri": "https://localhost:8080/",
          "height": 416
        },
        "id": "0riqa20fH2KN",
        "outputId": "ea382c15-db52-46d9-d105-62deaff6309e"
      },
      "source": [
        "from sklearn.ensemble import BaggingClassifier\n",
        "bag_clf = BaggingClassifier()\n",
        "    \n",
        "bag_clf.fit(xtr,ytr)\n",
        "y_pred=bag_clf.predict(xte)\n",
        "\n",
        "model_performance(yte, y_pred)\n",
        "\n",
        "plot_cmat(yte, y_pred)"
      ],
      "execution_count": null,
      "outputs": [
        {
          "name": "stdout",
          "output_type": "stream",
          "text": [
            "Accuracy of the model: 0.883\n",
            "Percision of the model: 0.902\n",
            "Recall of the model: 0.87\n",
            "F1-score of the model: 0.886\n"
          ]
        },
        {
          "name": "stderr",
          "output_type": "stream",
          "text": [
            "/usr/local/lib/python3.7/dist-packages/sklearn/utils/deprecation.py:87: FutureWarning: Function plot_confusion_matrix is deprecated; This will be removed in v0.4.0. Please use scikitplot.metrics.plot_confusion_matrix instead.\n",
            "  warnings.warn(msg, category=FutureWarning)\n"
          ]
        },
        {
          "data": {
            "image/png": "[encoded data removed]",
            "text/plain": [
              "<Figure size 432x288 with 2 Axes>"
            ]
          },
          "metadata": {},
          "output_type": "display_data"
        }
      ]
    },
    {
      "cell_type": "code",
      "metadata": {
        "colab": {
          "base_uri": "https://localhost:8080/",
          "height": 416
        },
        "id": "-dI2qtbOFjeC",
        "outputId": "5a9338d7-9cc6-4559-ab96-d6d61ec771ee"
      },
      "source": [
        "from sklearn.ensemble import BaggingClassifier\n",
        "bag_clf = BaggingClassifier(n_estimators=100)\n",
        "    \n",
        "bag_clf.fit(xtr,ytr)\n",
        "y_pred=bag_clf.predict(xte)\n",
        "\n",
        "model_performance(yte, y_pred)\n",
        "\n",
        "plot_cmat(yte, y_pred)"
      ],
      "execution_count": null,
      "outputs": [
        {
          "name": "stdout",
          "output_type": "stream",
          "text": [
            "Accuracy of the model: 0.912\n",
            "Percision of the model: 0.908\n",
            "Recall of the model: 0.925\n",
            "F1-score of the model: 0.916\n"
          ]
        },
        {
          "name": "stderr",
          "output_type": "stream",
          "text": [
            "/usr/local/lib/python3.7/dist-packages/sklearn/utils/deprecation.py:87: FutureWarning: Function plot_confusion_matrix is deprecated; This will be removed in v0.4.0. Please use scikitplot.metrics.plot_confusion_matrix instead.\n",
            "  warnings.warn(msg, category=FutureWarning)\n"
          ]
        },
        {
          "data": {
            "image/png": "[encoded data removed]",
            "text/plain": [
              "<Figure size 432x288 with 2 Axes>"
            ]
          },
          "metadata": {},
          "output_type": "display_data"
        }
      ]
    },
    {
      "cell_type": "code",
      "metadata": {
        "colab": {
          "background_save": true
        },
        "id": "M6P0Z1xQ7uvi",
        "outputId": "6a6271e4-ecfa-457f-9628-4598c2db5f46"
      },
      "source": [
        "from sklearn.ensemble import BaggingClassifier\n",
        "bag_clf = BaggingClassifier(n_estimators=300)\n",
        "    \n",
        "bag_clf.fit(xtr,ytr)\n",
        "y_pred=bag_clf.predict(xte)\n",
        "\n",
        "model_performance(yte, y_pred)\n",
        "\n",
        "plot_cmat(yte, y_pred)"
      ],
      "execution_count": null,
      "outputs": [
        {
          "name": "stdout",
          "output_type": "stream",
          "text": [
            "Accuracy of the model: 0.914\n",
            "Percision of the model: 0.911\n",
            "Recall of the model: 0.927\n",
            "F1-score of the model: 0.919\n"
          ]
        },
        {
          "name": "stderr",
          "output_type": "stream",
          "text": [
            "/usr/local/lib/python3.7/dist-packages/sklearn/utils/deprecation.py:87: FutureWarning: Function plot_confusion_matrix is deprecated; This will be removed in v0.4.0. Please use scikitplot.metrics.plot_confusion_matrix instead.\n",
            "  warnings.warn(msg, category=FutureWarning)\n"
          ]
        },
        {
          "data": {
            "image/png": "[encoded data removed]",
            "text/plain": [
              "<Figure size 432x288 with 2 Axes>"
            ]
          },
          "metadata": {},
          "output_type": "display_data"
        }
      ]
    },
    {
      "cell_type": "code",
      "metadata": {
        "id": "UdyFDDZYeDMF"
      },
      "source": [
        "from sklearn.ensemble import BaggingClassifier\n",
        "bag_clf = BaggingClassifier(n_estimators=500)\n",
        "    \n",
        "bag_clf.fit(xtr,ytr)\n",
        "y_pred=bag_clf.predict(xte)\n",
        "\n",
        "model_performance(yte, y_pred)\n",
        "\n",
        "plot_cmat(yte, y_pred)"
      ],
      "execution_count": null,
      "outputs": []
    },
    {
      "cell_type": "markdown",
      "metadata": {
        "id": "2XFsks8U8Rio"
      },
      "source": [
        "### VotingClassifier"
      ]
    },
    {
      "cell_type": "code",
      "metadata": {
        "id": "Ec0F2THUSbas"
      },
      "source": [
        "from sklearn.ensemble import VotingClassifier"
      ],
      "execution_count": null,
      "outputs": []
    },
    {
      "cell_type": "markdown",
      "metadata": {
        "id": "JG0rne2J8Rio"
      },
      "source": [
        "#### RF, LR, KNN"
      ]
    },
    {
      "cell_type": "code",
      "metadata": {
        "colab": {
          "base_uri": "https://localhost:8080/",
          "height": 229
        },
        "id": "Qx2K6Qz98Rio",
        "outputId": "e6f8c302-b6c6-40c1-845f-626ef9b04b3a"
      },
      "source": [
        "VCmodel1 = VotingClassifier(estimators=[('RF', random_forest),('LR', logreg), ('KNN', knn)], voting='hard', n_jobs=-1)\n",
        "VCmodel1.fit(xtr,ytr)\n",
        "VCmodel1.score(xte,yte)\n",
        "\n",
        "y_pred=VCmodel1.predict(xte)\n",
        "\n",
        "model_performance(yte, y_pred)\n",
        "\n",
        "plot_cmat(yte, y_pred)"
      ],
      "execution_count": null,
      "outputs": [
        {
          "output_type": "error",
          "ename": "NameError",
          "evalue": "ignored",
          "traceback": [
            "\u001b[0;31m---------------------------------------------------------------------------\u001b[0m",
            "\u001b[0;31mNameError\u001b[0m                                 Traceback (most recent call last)",
            "\u001b[0;32m<ipython-input-14-0ba09fdf262e>\u001b[0m in \u001b[0;36m<module>\u001b[0;34m()\u001b[0m\n\u001b[0;32m----> 1\u001b[0;31m \u001b[0mVCmodel1\u001b[0m \u001b[0;34m=\u001b[0m \u001b[0mVotingClassifier\u001b[0m\u001b[0;34m(\u001b[0m\u001b[0mestimators\u001b[0m\u001b[0;34m=\u001b[0m\u001b[0;34m[\u001b[0m\u001b[0;34m(\u001b[0m\u001b[0;34m'RF'\u001b[0m\u001b[0;34m,\u001b[0m \u001b[0mrandom_forest\u001b[0m\u001b[0;34m)\u001b[0m\u001b[0;34m,\u001b[0m\u001b[0;34m(\u001b[0m\u001b[0;34m'LR'\u001b[0m\u001b[0;34m,\u001b[0m \u001b[0mlogreg\u001b[0m\u001b[0;34m)\u001b[0m\u001b[0;34m,\u001b[0m \u001b[0;34m(\u001b[0m\u001b[0;34m'KNN'\u001b[0m\u001b[0;34m,\u001b[0m \u001b[0mknn\u001b[0m\u001b[0;34m)\u001b[0m\u001b[0;34m]\u001b[0m\u001b[0;34m,\u001b[0m \u001b[0mvoting\u001b[0m\u001b[0;34m=\u001b[0m\u001b[0;34m'hard'\u001b[0m\u001b[0;34m,\u001b[0m \u001b[0mn_jobs\u001b[0m\u001b[0;34m=\u001b[0m\u001b[0;34m-\u001b[0m\u001b[0;36m1\u001b[0m\u001b[0;34m)\u001b[0m\u001b[0;34m\u001b[0m\u001b[0;34m\u001b[0m\u001b[0m\n\u001b[0m\u001b[1;32m      2\u001b[0m \u001b[0mVCmodel1\u001b[0m\u001b[0;34m.\u001b[0m\u001b[0mfit\u001b[0m\u001b[0;34m(\u001b[0m\u001b[0mxtr\u001b[0m\u001b[0;34m,\u001b[0m\u001b[0mytr\u001b[0m\u001b[0;34m)\u001b[0m\u001b[0;34m\u001b[0m\u001b[0;34m\u001b[0m\u001b[0m\n\u001b[1;32m      3\u001b[0m \u001b[0mVCmodel1\u001b[0m\u001b[0;34m.\u001b[0m\u001b[0mscore\u001b[0m\u001b[0;34m(\u001b[0m\u001b[0mxte\u001b[0m\u001b[0;34m,\u001b[0m\u001b[0myte\u001b[0m\u001b[0;34m)\u001b[0m\u001b[0;34m\u001b[0m\u001b[0;34m\u001b[0m\u001b[0m\n\u001b[1;32m      4\u001b[0m \u001b[0;34m\u001b[0m\u001b[0m\n\u001b[1;32m      5\u001b[0m \u001b[0my_pred\u001b[0m\u001b[0;34m=\u001b[0m\u001b[0mVCmodel1\u001b[0m\u001b[0;34m.\u001b[0m\u001b[0mpredict\u001b[0m\u001b[0;34m(\u001b[0m\u001b[0mxte\u001b[0m\u001b[0;34m)\u001b[0m\u001b[0;34m\u001b[0m\u001b[0;34m\u001b[0m\u001b[0m\n",
            "\u001b[0;31mNameError\u001b[0m: name 'random_forest' is not defined"
          ]
        }
      ]
    },
    {
      "cell_type": "markdown",
      "metadata": {
        "id": "aFbKoAFbZs5F"
      },
      "source": [
        "#### LR, SVC, LinearSVM"
      ]
    },
    {
      "cell_type": "code",
      "metadata": {
        "colab": {
          "base_uri": "https://localhost:8080/",
          "height": 416
        },
        "id": "A30OnrJ3SXJt",
        "outputId": "08688fe1-a94a-40a9-c110-62f0e8a3a870"
      },
      "source": [
        "VCmodel1 = VotingClassifier(estimators=[('LR', logreg), ('SVC', svc), ('LinearSVM', Lsvm)], voting='hard', n_jobs=-1)\n",
        "VCmodel1.fit(xtr,ytr)\n",
        "\n",
        "y_pred=VCmodel1.predict(xte)\n",
        "\n",
        "model_performance(yte, y_pred)\n",
        "\n",
        "plot_cmat(yte, y_pred)"
      ],
      "execution_count": null,
      "outputs": [
        {
          "name": "stdout",
          "output_type": "stream",
          "text": [
            "Accuracy of the model: 0.946\n",
            "Percision of the model: 0.944\n",
            "Recall of the model: 0.954\n",
            "F1-score of the model: 0.949\n"
          ]
        },
        {
          "name": "stderr",
          "output_type": "stream",
          "text": [
            "/usr/local/lib/python3.7/dist-packages/sklearn/utils/deprecation.py:87: FutureWarning: Function plot_confusion_matrix is deprecated; This will be removed in v0.4.0. Please use scikitplot.metrics.plot_confusion_matrix instead.\n",
            "  warnings.warn(msg, category=FutureWarning)\n"
          ]
        },
        {
          "data": {
            "image/png": "[encoded data removed]",
            "text/plain": [
              "<Figure size 432x288 with 2 Axes>"
            ]
          },
          "metadata": {},
          "output_type": "display_data"
        }
      ]
    },
    {
      "cell_type": "code",
      "metadata": {
        "id": "HMqIa1Av8Rip"
      },
      "source": [
        "VCmodel1 = VotingClassifier(estimators=[('LR', logreg), ('SVC', svc), ('LinearSVM', Lsvm)], voting='hard', n_jobs=-1)\n",
        "VCmodel1.fit(xtr,ytr)\n",
        "\n",
        "y_pred=VCmodel1.predict(xte)\n",
        "\n",
        "model_performance(yte, y_pred)\n",
        "\n",
        "plot_cmat(yte, y_pred)"
      ],
      "execution_count": null,
      "outputs": []
    },
    {
      "cell_type": "markdown",
      "metadata": {
        "id": "oV4RXE6o8Rip"
      },
      "source": [
        "### Boosting\n",
        "\n",
        "### AdaBoosting"
      ]
    },
    {
      "cell_type": "code",
      "metadata": {
        "colab": {
          "base_uri": "https://localhost:8080/",
          "height": 416
        },
        "id": "j0-AKQzH8Rip",
        "outputId": "142d6b30-3bbc-46f4-81e0-3bfe63d58dec"
      },
      "source": [
        "from sklearn.ensemble import AdaBoostClassifier\n",
        "#(base_estimator=None, *, n_estimators=50, learning_rate=1.0, algorithm='SAMME.R', random_state=None)[source]\n",
        "AdB_model = AdaBoostClassifier(random_state=1)\n",
        "AdB_model.fit(xtr,ytr)\n",
        "AdB_model.score(xte,yte)\n",
        "y_pred=AdB_model.predict(xte)\n",
        "\n",
        "model_performance(yte, y_pred)\n",
        "\n",
        "plot_cmat(yte, y_pred)"
      ],
      "execution_count": null,
      "outputs": [
        {
          "name": "stdout",
          "output_type": "stream",
          "text": [
            "Accuracy of the model: 0.906\n",
            "Percision of the model: 0.905\n",
            "Recall of the model: 0.917\n",
            "F1-score of the model: 0.911\n"
          ]
        },
        {
          "name": "stderr",
          "output_type": "stream",
          "text": [
            "/usr/local/lib/python3.7/dist-packages/sklearn/utils/deprecation.py:87: FutureWarning: Function plot_confusion_matrix is deprecated; This will be removed in v0.4.0. Please use scikitplot.metrics.plot_confusion_matrix instead.\n",
            "  warnings.warn(msg, category=FutureWarning)\n"
          ]
        },
        {
          "data": {
            "image/png": "[encoded data removed]",
            "text/plain": [
              "<Figure size 432x288 with 2 Axes>"
            ]
          },
          "metadata": {},
          "output_type": "display_data"
        }
      ]
    },
    {
      "cell_type": "code",
      "metadata": {
        "id": "eGTOOdNXH2M2"
      },
      "source": [
        "from sklearn.ensemble import AdaBoostClassifier\n",
        "grid = {'n_estimators': [10, 50, 100, 500], 'learning_rate': [0.0001, 0.001, 0.01, 0.1, 1.0]}\n",
        "i=0\n",
        "while i < 5:\n",
        "  # define the grid search procedure\n",
        "  clf = RandomizedSearchCV(AdaBoostClassifier(), grid, cv= 10, scoring='accuracy')\n",
        "  # execute the grid search\n",
        "  grid_result=clf.fit(xtr,ytr)\n",
        "  # summarize the best score and configuration\n",
        "  print(\"Best: %f using %s\" % (grid_result.best_score_, grid_result.best_params_))\n",
        "  i+=1"
      ],
      "execution_count": null,
      "outputs": []
    },
    {
      "cell_type": "code",
      "metadata": {
        "id": "0L5n_vXq8Rip"
      },
      "source": [
        "#Hyperparameter Tuning\n",
        "from sklearn.model_selection import RepeatedStratifiedKFold\n",
        "# define the grid of values to search\n",
        "grid = dict()\n",
        "grid['n_estimators'] = [10, 50, 100, 500]\n",
        "grid['learning_rate'] = [0.0001, 0.001, 0.01, 0.1, 1.0]\n",
        "# define the evaluation procedure\n",
        "cv = RepeatedStratifiedKFold(n_splits=10, n_repeats=3, random_state=1)\n",
        "# define the grid search procedure\n",
        "clf = GridSearchCV(AdaBoostClassifier(), param_grid=grid, n_jobs=-1, cv=cv, scoring='accuracy')\n",
        "# execute the grid search\n",
        "grid_result = clf.fit(xtr,ytr)\n",
        "# summarize the best score and configuration\n",
        "print(\"Best: %f using %s\" % (grid_result.best_score_, grid_result.best_params_))\n",
        "# summarize all scores that were evaluated\n",
        "means = grid_result.cv_results_['mean_test_score']\n",
        "stds = grid_result.cv_results_['std_test_score']\n",
        "params = grid_result.cv_results_['params']\n",
        "for mean, stdev, param in zip(means, stds, params):\n",
        "    print(\"%f (%f) with: %r\" % (mean, stdev, param))"
      ],
      "execution_count": null,
      "outputs": []
    },
    {
      "cell_type": "code",
      "metadata": {
        "id": "lfp5DqTZ8Rip"
      },
      "source": [
        "clf.best_estimator_"
      ],
      "execution_count": null,
      "outputs": []
    },
    {
      "cell_type": "markdown",
      "metadata": {
        "id": "69gZcltu8Rip"
      },
      "source": [
        "### XGBoost"
      ]
    },
    {
      "cell_type": "code",
      "metadata": {
        "colab": {
          "base_uri": "https://localhost:8080/",
          "height": 416
        },
        "id": "_k4zsPU98Rip",
        "outputId": "2f059386-aa0c-442e-b860-858bc44e2d45"
      },
      "source": [
        "import xgboost as xgb\n",
        "Xgb_model=xgb.XGBClassifier(random_state=1,learning_rate=0.01)\n",
        "Xgb_model.fit(xtr,ytr)\n",
        "Xgb_model.score(xte,yte)\n",
        "y_pred=Xgb_model.predict(xte)\n",
        "\n",
        "model_performance(yte, y_pred)\n",
        "\n",
        "plot_cmat(yte, y_pred)"
      ],
      "execution_count": null,
      "outputs": [
        {
          "name": "stdout",
          "output_type": "stream",
          "text": [
            "Accuracy of the model: 0.838\n",
            "Percision of the model: 0.837\n",
            "Recall of the model: 0.857\n",
            "F1-score of the model: 0.847\n"
          ]
        },
        {
          "name": "stderr",
          "output_type": "stream",
          "text": [
            "/usr/local/lib/python3.7/dist-packages/sklearn/utils/deprecation.py:87: FutureWarning: Function plot_confusion_matrix is deprecated; This will be removed in v0.4.0. Please use scikitplot.metrics.plot_confusion_matrix instead.\n",
            "  warnings.warn(msg, category=FutureWarning)\n"
          ]
        },
        {
          "data": {
            "image/png": "[encoded data removed]",
            "text/plain": [
              "<Figure size 432x288 with 2 Axes>"
            ]
          },
          "metadata": {},
          "output_type": "display_data"
        }
      ]
    }
  ]
}